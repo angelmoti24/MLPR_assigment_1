{
 "cells": [
  {
   "cell_type": "code",
   "execution_count": 1,
   "id": "controlling-links",
   "metadata": {},
   "outputs": [],
   "source": [
    "import numpy as np\n",
    "import matplotlib.pyplot as plt"
   ]
  },
  {
   "cell_type": "code",
   "execution_count": 2,
   "id": "empty-leisure",
   "metadata": {},
   "outputs": [],
   "source": [
    "amp_data = np.load('./data/amp_data.npz')['amp_data']"
   ]
  },
  {
   "cell_type": "code",
   "execution_count": 3,
   "id": "nearby-average",
   "metadata": {},
   "outputs": [
    {
     "data": {
      "text/plain": [
       "(33713280,)"
      ]
     },
     "execution_count": 3,
     "metadata": {},
     "output_type": "execute_result"
    }
   ],
   "source": [
    "amp_data.shape"
   ]
  },
  {
   "cell_type": "code",
   "execution_count": 4,
   "id": "chief-narrative",
   "metadata": {},
   "outputs": [
    {
     "data": {
      "image/png": "[encoded data removed]",
      "text/plain": [
       "<Figure size 432x288 with 1 Axes>"
      ]
     },
     "metadata": {
      "needs_background": "light"
     },
     "output_type": "display_data"
    }
   ],
   "source": [
    "plt.plot(amp_data)\n",
    "plt.show()"
   ]
  },
  {
   "cell_type": "code",
   "execution_count": 5,
   "id": "enormous-inspiration",
   "metadata": {},
   "outputs": [
    {
     "data": {
      "image/png": "[encoded data removed]",
      "text/plain": [
       "<Figure size 432x288 with 1 Axes>"
      ]
     },
     "metadata": {
      "needs_background": "light"
     },
     "output_type": "display_data"
    }
   ],
   "source": [
    "plt.hist(amp_data, bins=int(np.sqrt(len(amp_data))))\n",
    "plt.show()"
   ]
  },
  {
   "cell_type": "code",
   "execution_count": 6,
   "id": "respected-cradle",
   "metadata": {},
   "outputs": [
    {
     "data": {
      "text/plain": [
       "0.04153175718671892"
      ]
     },
     "execution_count": 6,
     "metadata": {},
     "output_type": "execute_result"
    }
   ],
   "source": [
    "np.sqrt(np.var(amp_data)) # standard deviation "
   ]
  },
  {
   "cell_type": "markdown",
   "id": "awful-marijuana",
   "metadata": {},
   "source": [
    "### reshape in Cx21"
   ]
  },
  {
   "cell_type": "code",
   "execution_count": 7,
   "id": "vertical-section",
   "metadata": {},
   "outputs": [],
   "source": [
    "new_data_size= 21*(amp_data.shape[0]//21)\n",
    "amp_data= amp_data[:new_data_size].reshape(-1,21)"
   ]
  },
  {
   "cell_type": "code",
   "execution_count": 8,
   "id": "weekly-domestic",
   "metadata": {},
   "outputs": [
    {
     "data": {
      "text/plain": [
       "(1605394, 21)"
      ]
     },
     "execution_count": 8,
     "metadata": {},
     "output_type": "execute_result"
    }
   ],
   "source": [
    "amp_data.shape"
   ]
  },
  {
   "cell_type": "code",
   "execution_count": 9,
   "id": "solar-invention",
   "metadata": {},
   "outputs": [],
   "source": [
    "np.random.seed(235711) # set seed\n",
    "np.random.shuffle(amp_data,)\n",
    "\n",
    "train_size = int(amp_data.shape[0]*.7)\n",
    "val_size = int(amp_data.shape[0]*.15)\n",
    "test_size = amp_data.shape[0]-train_size-val_size"
   ]
  },
  {
   "cell_type": "code",
   "execution_count": 10,
   "id": "choice-congress",
   "metadata": {},
   "outputs": [
    {
     "name": "stdout",
     "output_type": "stream",
     "text": [
      "1123775 240809 240810\n"
     ]
    }
   ],
   "source": [
    "print(train_size,val_size,test_size)"
   ]
  },
  {
   "cell_type": "code",
   "execution_count": 11,
   "id": "existing-desire",
   "metadata": {},
   "outputs": [],
   "source": [
    "train = amp_data[:train_size]\n",
    "val =  amp_data[train_size:train_size+val_size]\n",
    "test = amp_data[train_size+val_size:train_size+val_size+test_size]"
   ]
  },
  {
   "cell_type": "code",
   "execution_count": 12,
   "id": "informal-democrat",
   "metadata": {},
   "outputs": [
    {
     "data": {
      "text/plain": [
       "True"
      ]
     },
     "execution_count": 12,
     "metadata": {},
     "output_type": "execute_result"
    }
   ],
   "source": [
    "test.shape[0]== test_size"
   ]
  },
  {
   "cell_type": "code",
   "execution_count": 13,
   "id": "alternate-rover",
   "metadata": {},
   "outputs": [
    {
     "data": {
      "text/plain": [
       "(1123775, 21)"
      ]
     },
     "execution_count": 13,
     "metadata": {},
     "output_type": "execute_result"
    }
   ],
   "source": [
    "train.shape"
   ]
  },
  {
   "cell_type": "code",
   "execution_count": 14,
   "id": "superb-assembly",
   "metadata": {},
   "outputs": [],
   "source": [
    "X_shuf_train, y_shuf_train = train[:,:-1], train[:,-1]\n",
    "X_shuf_val, y_shuf_val = val[:,:-1], val[:,-1]\n",
    "X_shuf_test, y_shuf_test = test[:,:-1], test[:,-1]"
   ]
  },
  {
   "cell_type": "code",
   "execution_count": 15,
   "id": "standing-television",
   "metadata": {},
   "outputs": [
    {
     "data": {
      "text/plain": [
       "(240810, 20)"
      ]
     },
     "execution_count": 15,
     "metadata": {},
     "output_type": "execute_result"
    }
   ],
   "source": [
    "X_shuf_test.shape"
   ]
  },
  {
   "cell_type": "markdown",
   "id": "tired-terminal",
   "metadata": {},
   "source": [
    "### curve fitting on a snippet of audio\n",
    "\n"
   ]
  },
  {
   "cell_type": "code",
   "execution_count": 53,
   "id": "rural-piano",
   "metadata": {},
   "outputs": [],
   "source": [
    "time = np.arange(0,20)/20"
   ]
  },
  {
   "cell_type": "code",
   "execution_count": 54,
   "id": "unusual-console",
   "metadata": {},
   "outputs": [
    {
     "data": {
      "text/plain": [
       "array([0.  , 0.05, 0.1 , 0.15, 0.2 , 0.25, 0.3 , 0.35, 0.4 , 0.45, 0.5 ,\n",
       "       0.55, 0.6 , 0.65, 0.7 , 0.75, 0.8 , 0.85, 0.9 , 0.95])"
      ]
     },
     "execution_count": 54,
     "metadata": {},
     "output_type": "execute_result"
    }
   ],
   "source": [
    "time"
   ]
  },
  {
   "cell_type": "code",
   "execution_count": 55,
   "id": "coordinated-insert",
   "metadata": {},
   "outputs": [
    {
     "data": {
      "text/plain": [
       "0.95"
      ]
     },
     "execution_count": 55,
     "metadata": {},
     "output_type": "execute_result"
    }
   ],
   "source": [
    "19/20"
   ]
  },
  {
   "cell_type": "code",
   "execution_count": 96,
   "id": "recent-public",
   "metadata": {},
   "outputs": [],
   "source": [
    "example = X_shuf_train[0,:]\n",
    "example_target = y_shuf_train[0]"
   ]
  },
  {
   "cell_type": "code",
   "execution_count": 97,
   "id": "popular-mileage",
   "metadata": {},
   "outputs": [
    {
     "data": {
      "text/plain": [
       "(20,)"
      ]
     },
     "execution_count": 97,
     "metadata": {},
     "output_type": "execute_result"
    }
   ],
   "source": [
    "example.shape"
   ]
  },
  {
   "cell_type": "code",
   "execution_count": 98,
   "id": "synthetic-button",
   "metadata": {},
   "outputs": [
    {
     "data": {
      "image/png": "[encoded data removed]",
      "text/plain": [
       "<Figure size 432x288 with 1 Axes>"
      ]
     },
     "metadata": {
      "needs_background": "light"
     },
     "output_type": "display_data"
    }
   ],
   "source": [
    "plt.plot(time,example)\n",
    "plt.plot(1,example_target, 'o')\n",
    "plt.show()"
   ]
  },
  {
   "cell_type": "markdown",
   "id": "million-background",
   "metadata": {},
   "source": [
    "Fit linear regression"
   ]
  },
  {
   "cell_type": "code",
   "execution_count": 99,
   "id": "explicit-drunk",
   "metadata": {
    "scrolled": true
   },
   "outputs": [
    {
     "name": "stderr",
     "output_type": "stream",
     "text": [
      "<ipython-input-99-611f30618820>:1: FutureWarning: `rcond` parameter will change to the default of machine precision times ``max(M, N)`` where M and N are the input matrix dimensions.\n",
      "To use the future default and silence this warning we advise to pass `rcond=None`, to keep using the old, explicitly pass `rcond=-1`.\n",
      "  coef = np.linalg.lstsq(time.reshape(-1,1),example)[0]\n"
     ]
    }
   ],
   "source": [
    "coef = np.linalg.lstsq(time.reshape(-1,1),example)[0]\n",
    "pred = coef*time"
   ]
  },
  {
   "cell_type": "code",
   "execution_count": 100,
   "id": "oriental-print",
   "metadata": {},
   "outputs": [
    {
     "data": {
      "text/plain": [
       "(1,)"
      ]
     },
     "execution_count": 100,
     "metadata": {},
     "output_type": "execute_result"
    }
   ],
   "source": [
    "coef.shape"
   ]
  },
  {
   "cell_type": "code",
   "execution_count": 101,
   "id": "consolidated-testing",
   "metadata": {},
   "outputs": [
    {
     "name": "stderr",
     "output_type": "stream",
     "text": [
      "<ipython-input-101-8a47d4b9608e>:2: FutureWarning: `rcond` parameter will change to the default of machine precision times ``max(M, N)`` where M and N are the input matrix dimensions.\n",
      "To use the future default and silence this warning we advise to pass `rcond=None`, to keep using the old, explicitly pass `rcond=-1`.\n",
      "  quartic_coef = np.linalg.lstsq(phi,example)[0]\n"
     ]
    }
   ],
   "source": [
    "phi = np.c_[np.ones_like(time),time, time**2, time**3, time**4]\n",
    "quartic_coef = np.linalg.lstsq(phi,example)[0]\n",
    "quartic_pred = np.matmul(quartic_coef,phi.T)"
   ]
  },
  {
   "cell_type": "code",
   "execution_count": 102,
   "id": "convinced-holiday",
   "metadata": {},
   "outputs": [
    {
     "data": {
      "text/plain": [
       "(20,)"
      ]
     },
     "execution_count": 102,
     "metadata": {},
     "output_type": "execute_result"
    }
   ],
   "source": [
    "quartic_pred.shape"
   ]
  },
  {
   "cell_type": "code",
   "execution_count": 103,
   "id": "flying-mystery",
   "metadata": {},
   "outputs": [
    {
     "data": {
      "image/png": "[encoded data removed]",
      "text/plain": [
       "<Figure size 432x288 with 1 Axes>"
      ]
     },
     "metadata": {
      "needs_background": "light"
     },
     "output_type": "display_data"
    }
   ],
   "source": [
    "plt.plot(time,example,'o', label=\"data points\" )\n",
    "plt.plot(time,pred, label=\"linear model, whit no bias\")\n",
    "plt.plot(time,quartic_pred, label=\"quartic model\")\n",
    "plt.plot(1,example_target, 'o', label=\"single point\")\n",
    "plt.legend()\n",
    "plt.show()"
   ]
  },
  {
   "cell_type": "code",
   "execution_count": null,
   "id": "improving-employee",
   "metadata": {},
   "outputs": [],
   "source": []
  }
 ],
 "metadata": {
  "kernelspec": {
   "display_name": "Python 3",
   "language": "python",
   "name": "python3"
  },
  "language_info": {
   "codemirror_mode": {
    "name": "ipython",
    "version": 3
   },
   "file_extension": ".py",
   "mimetype": "text/x-python",
   "name": "python",
   "nbconvert_exporter": "python",
   "pygments_lexer": "ipython3",
   "version": "3.8.2"
  }
 },
 "nbformat": 4,
 "nbformat_minor": 5
}
