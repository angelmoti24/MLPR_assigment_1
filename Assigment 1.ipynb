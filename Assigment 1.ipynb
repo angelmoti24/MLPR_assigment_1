{
 "cells": [
  {
   "cell_type": "code",
   "execution_count": 1,
   "id": "controlling-links",
   "metadata": {},
   "outputs": [],
   "source": [
    "import numpy as np\n",
    "import matplotlib.pyplot as plt"
   ]
  },
  {
   "cell_type": "code",
   "execution_count": 2,
   "id": "empty-leisure",
   "metadata": {},
   "outputs": [],
   "source": [
    "amp_data = np.load('./data/amp_data.npz')['amp_data']"
   ]
  },
  {
   "cell_type": "code",
   "execution_count": 3,
   "id": "nearby-average",
   "metadata": {},
   "outputs": [
    {
     "data": {
      "text/plain": [
       "(33713280,)"
      ]
     },
     "execution_count": 3,
     "metadata": {},
     "output_type": "execute_result"
    }
   ],
   "source": [
    "amp_data.shape"
   ]
  },
  {
   "cell_type": "code",
   "execution_count": 4,
   "id": "chief-narrative",
   "metadata": {},
   "outputs": [
    {
     "data": {
      "image/png": "[encoded data removed]",
      "text/plain": [
       "<Figure size 432x288 with 1 Axes>"
      ]
     },
     "metadata": {
      "needs_background": "light"
     },
     "output_type": "display_data"
    }
   ],
   "source": [
    "plt.plot(amp_data)\n",
    "plt.show()"
   ]
  },
  {
   "cell_type": "code",
   "execution_count": 5,
   "id": "enormous-inspiration",
   "metadata": {},
   "outputs": [
    {
     "data": {
      "image/png": "[encoded data removed]",
      "text/plain": [
       "<Figure size 432x288 with 1 Axes>"
      ]
     },
     "metadata": {
      "needs_background": "light"
     },
     "output_type": "display_data"
    }
   ],
   "source": [
    "plt.hist(amp_data, bins=int(np.sqrt(len(amp_data))))\n",
    "plt.show()"
   ]
  },
  {
   "cell_type": "code",
   "execution_count": 6,
   "id": "respected-cradle",
   "metadata": {},
   "outputs": [
    {
     "data": {
      "text/plain": [
       "0.04153175718671892"
      ]
     },
     "execution_count": 6,
     "metadata": {},
     "output_type": "execute_result"
    }
   ],
   "source": [
    "np.sqrt(np.var(amp_data)) # standard deviation "
   ]
  },
  {
   "cell_type": "markdown",
   "id": "awful-marijuana",
   "metadata": {},
   "source": [
    "### reshape in Cx21"
   ]
  },
  {
   "cell_type": "code",
   "execution_count": 7,
   "id": "vertical-section",
   "metadata": {},
   "outputs": [],
   "source": [
    "new_data_size= 21*(amp_data.shape[0]//21)\n",
    "amp_data= amp_data[:new_data_size].reshape(-1,21)"
   ]
  },
  {
   "cell_type": "code",
   "execution_count": 8,
   "id": "weekly-domestic",
   "metadata": {},
   "outputs": [
    {
     "data": {
      "text/plain": [
       "(1605394, 21)"
      ]
     },
     "execution_count": 8,
     "metadata": {},
     "output_type": "execute_result"
    }
   ],
   "source": [
    "amp_data.shape"
   ]
  },
  {
   "cell_type": "code",
   "execution_count": 9,
   "id": "solar-invention",
   "metadata": {},
   "outputs": [],
   "source": [
    "np.random.seed(235711) # set seed\n",
    "np.random.shuffle(amp_data,)\n",
    "\n",
    "train_size = int(amp_data.shape[0]*.7)\n",
    "val_size = int(amp_data.shape[0]*.15)\n",
    "test_size = amp_data.shape[0]-train_size-val_size"
   ]
  },
  {
   "cell_type": "code",
   "execution_count": 10,
   "id": "choice-congress",
   "metadata": {},
   "outputs": [
    {
     "name": "stdout",
     "output_type": "stream",
     "text": [
      "1123775 240809 240810\n"
     ]
    }
   ],
   "source": [
    "print(train_size,val_size,test_size)"
   ]
  },
  {
   "cell_type": "code",
   "execution_count": 11,
   "id": "existing-desire",
   "metadata": {},
   "outputs": [],
   "source": [
    "train = amp_data[:train_size]\n",
    "val =  amp_data[train_size:train_size+val_size]\n",
    "test = amp_data[train_size+val_size:train_size+val_size+test_size]"
   ]
  },
  {
   "cell_type": "code",
   "execution_count": 12,
   "id": "informal-democrat",
   "metadata": {},
   "outputs": [
    {
     "data": {
      "text/plain": [
       "True"
      ]
     },
     "execution_count": 12,
     "metadata": {},
     "output_type": "execute_result"
    }
   ],
   "source": [
    "test.shape[0]== test_size"
   ]
  },
  {
   "cell_type": "code",
   "execution_count": 13,
   "id": "alternate-rover",
   "metadata": {},
   "outputs": [
    {
     "data": {
      "text/plain": [
       "(1123775, 21)"
      ]
     },
     "execution_count": 13,
     "metadata": {},
     "output_type": "execute_result"
    }
   ],
   "source": [
    "train.shape"
   ]
  },
  {
   "cell_type": "code",
   "execution_count": 14,
   "id": "superb-assembly",
   "metadata": {},
   "outputs": [],
   "source": [
    "X_shuf_train, y_shuf_train = train[:,:-1], train[:,-1]\n",
    "X_shuf_val, y_shuf_val = val[:,:-1], val[:,-1]\n",
    "X_shuf_test, y_shuf_test = test[:,:-1], test[:,-1]"
   ]
  },
  {
   "cell_type": "code",
   "execution_count": 15,
   "id": "standing-television",
   "metadata": {},
   "outputs": [
    {
     "data": {
      "text/plain": [
       "(240810, 20)"
      ]
     },
     "execution_count": 15,
     "metadata": {},
     "output_type": "execute_result"
    }
   ],
   "source": [
    "X_shuf_test.shape"
   ]
  },
  {
   "cell_type": "markdown",
   "id": "closing-bread",
   "metadata": {},
   "source": [
    "### curve fitting on a snippet of audio\n",
    "\n"
   ]
  },
  {
   "cell_type": "code",
   "execution_count": 16,
   "id": "legendary-korea",
   "metadata": {},
   "outputs": [],
   "source": [
    "time = np.arange(0,20)/20"
   ]
  },
  {
   "cell_type": "code",
   "execution_count": 17,
   "id": "colonial-specific",
   "metadata": {},
   "outputs": [
    {
     "data": {
      "text/plain": [
       "array([0.  , 0.05, 0.1 , 0.15, 0.2 , 0.25, 0.3 , 0.35, 0.4 , 0.45, 0.5 ,\n",
       "       0.55, 0.6 , 0.65, 0.7 , 0.75, 0.8 , 0.85, 0.9 , 0.95])"
      ]
     },
     "execution_count": 17,
     "metadata": {},
     "output_type": "execute_result"
    }
   ],
   "source": [
    "time"
   ]
  },
  {
   "cell_type": "code",
   "execution_count": 18,
   "id": "competitive-bouquet",
   "metadata": {},
   "outputs": [
    {
     "data": {
      "text/plain": [
       "0.95"
      ]
     },
     "execution_count": 18,
     "metadata": {},
     "output_type": "execute_result"
    }
   ],
   "source": [
    "19/20"
   ]
  },
  {
   "cell_type": "code",
   "execution_count": 19,
   "id": "graduate-engagement",
   "metadata": {},
   "outputs": [],
   "source": [
    "example = X_shuf_train[0,:]\n",
    "example_target = y_shuf_train[0]"
   ]
  },
  {
   "cell_type": "code",
   "execution_count": 20,
   "id": "stone-testament",
   "metadata": {},
   "outputs": [
    {
     "data": {
      "text/plain": [
       "(20,)"
      ]
     },
     "execution_count": 20,
     "metadata": {},
     "output_type": "execute_result"
    }
   ],
   "source": [
    "example.shape"
   ]
  },
  {
   "cell_type": "code",
   "execution_count": 21,
   "id": "armed-montgomery",
   "metadata": {},
   "outputs": [
    {
     "data": {
      "image/png": "[encoded data removed]",
      "text/plain": [
       "<Figure size 432x288 with 1 Axes>"
      ]
     },
     "metadata": {
      "needs_background": "light"
     },
     "output_type": "display_data"
    }
   ],
   "source": [
    "plt.plot(time,example)\n",
    "plt.plot(1,example_target, 'o')\n",
    "plt.show()"
   ]
  },
  {
   "cell_type": "markdown",
   "id": "caroline-bachelor",
   "metadata": {},
   "source": [
    "Fit linear regression"
   ]
  },
  {
   "cell_type": "code",
   "execution_count": 40,
   "id": "successful-composer",
   "metadata": {
    "scrolled": false
   },
   "outputs": [
    {
     "name": "stderr",
     "output_type": "stream",
     "text": [
      "<ipython-input-40-2836b1a3166f>:2: FutureWarning: `rcond` parameter will change to the default of machine precision times ``max(M, N)`` where M and N are the input matrix dimensions.\n",
      "To use the future default and silence this warning we advise to pass `rcond=None`, to keep using the old, explicitly pass `rcond=-1`.\n",
      "  coef = np.linalg.lstsq(time_bias,example)[0].reshape(-1,1)\n",
      "<ipython-input-40-2836b1a3166f>:6: FutureWarning: `rcond` parameter will change to the default of machine precision times ``max(M, N)`` where M and N are the input matrix dimensions.\n",
      "To use the future default and silence this warning we advise to pass `rcond=None`, to keep using the old, explicitly pass `rcond=-1`.\n",
      "  quartic_coef = np.linalg.lstsq(phi,example)[0]\n"
     ]
    },
    {
     "data": {
      "image/png": "[encoded data removed]",
      "text/plain": [
       "<Figure size 432x288 with 1 Axes>"
      ]
     },
     "metadata": {
      "needs_background": "light"
     },
     "output_type": "display_data"
    }
   ],
   "source": [
    "time_bias = np.c_[time, np.ones_like(time)]\n",
    "coef = np.linalg.lstsq(time_bias,example)[0].reshape(-1,1)\n",
    "linear_pred = np.matmul(coef.T,time_bias.T).ravel()\n",
    "\n",
    "phi = np.c_[np.ones_like(time),time, time**2, time**3, time**4]\n",
    "quartic_coef = np.linalg.lstsq(phi,example)[0]\n",
    "quartic_pred = np.matmul(quartic_coef,phi.T)\n",
    "\n",
    "plt.plot(time, example,'o', label=\"data points\" )\n",
    "plt.plot(time, linear_pred, label=\"linear model with bias\")\n",
    "plt.plot(time,quartic_pred, label=\"quartic model\")\n",
    "plt.plot(1,example_target, 'o', label=\"single point\")\n",
    "plt.legend()\n",
    "plt.show()"
   ]
  },
  {
   "cell_type": "code",
   "execution_count": 48,
   "id": "existing-latvia",
   "metadata": {},
   "outputs": [],
   "source": [
    "def Phi( C:int, K:int):\n",
    "    times = np.arange(0,1,1/C)\n",
    "    array = np.zeros((C,K))\n",
    "    for i,time in enumerate(times):\n",
    "        array[i,:] = [time**k for k in range(5)]\n",
    "    return array"
   ]
  },
  {
   "cell_type": "code",
   "execution_count": 50,
   "id": "saving-madrid",
   "metadata": {},
   "outputs": [
    {
     "data": {
      "text/plain": [
       "(20, 5)"
      ]
     },
     "execution_count": 50,
     "metadata": {},
     "output_type": "execute_result"
    }
   ],
   "source": [
    "Phi(20,5).shape"
   ]
  },
  {
   "cell_type": "code",
   "execution_count": 56,
   "id": "painful-riverside",
   "metadata": {},
   "outputs": [
    {
     "data": {
      "text/plain": [
       "array([1.        , 0.75      , 0.5625    , 0.421875  , 0.31640625])"
      ]
     },
     "execution_count": 56,
     "metadata": {},
     "output_type": "execute_result"
    }
   ],
   "source": [
    "Phi(20,5)[15]"
   ]
  },
  {
   "cell_type": "code",
   "execution_count": 58,
   "id": "textile-midwest",
   "metadata": {},
   "outputs": [
    {
     "data": {
      "text/plain": [
       "0.31640625"
      ]
     },
     "execution_count": 58,
     "metadata": {},
     "output_type": "execute_result"
    }
   ],
   "source": [
    "15**4/20**4"
   ]
  },
  {
   "cell_type": "code",
   "execution_count": 59,
   "id": "located-philadelphia",
   "metadata": {},
   "outputs": [],
   "source": [
    "def make_vv(C:int, K:int):\n",
    "    Phi_result = Phi(C,K)\n",
    "    phis= np.matmul(Phi_result,np.linalg.inv(np.matmul(Phi_result.T,Phi_result)))\n",
    "    return np.matmul(phis, np.ones((K,1)))"
   ]
  },
  {
   "cell_type": "code",
   "execution_count": 60,
   "id": "surprised-yukon",
   "metadata": {},
   "outputs": [
    {
     "data": {
      "text/plain": [
       "array([[ 0.25      ],\n",
       "       [-0.06578947],\n",
       "       [-0.19736842],\n",
       "       [-0.20252838],\n",
       "       [-0.13093395],\n",
       "       [-0.02412281],\n",
       "       [ 0.08449432],\n",
       "       [ 0.16963364],\n",
       "       [ 0.21413829],\n",
       "       [ 0.20897833],\n",
       "       [ 0.15325077],\n",
       "       [ 0.05417957],\n",
       "       [-0.07288442],\n",
       "       [-0.20446336],\n",
       "       [-0.30895253],\n",
       "       [-0.34662023],\n",
       "       [-0.26960784],\n",
       "       [-0.02192982],\n",
       "       [ 0.46052632],\n",
       "       [ 1.25      ]])"
      ]
     },
     "execution_count": 60,
     "metadata": {},
     "output_type": "execute_result"
    }
   ],
   "source": [
    "make_vv(20,5)"
   ]
  },
  {
   "cell_type": "code",
   "execution_count": null,
   "id": "comparable-vatican",
   "metadata": {},
   "outputs": [],
   "source": []
  }
 ],
 "metadata": {
  "kernelspec": {
   "display_name": "Python 3",
   "language": "python",
   "name": "python3"
  },
  "language_info": {
   "codemirror_mode": {
    "name": "ipython",
    "version": 3
   },
   "file_extension": ".py",
   "mimetype": "text/x-python",
   "name": "python",
   "nbconvert_exporter": "python",
   "pygments_lexer": "ipython3",
   "version": "3.8.2"
  }
 },
 "nbformat": 4,
 "nbformat_minor": 5
}
